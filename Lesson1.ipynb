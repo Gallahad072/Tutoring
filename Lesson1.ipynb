{
  "nbformat": 4,
  "nbformat_minor": 0,
  "metadata": {
    "colab": {
      "name": "Lesson1.ipynb",
      "provenance": [],
      "collapsed_sections": [],
      "authorship_tag": "ABX9TyOGg85co9FDv6ImodD6uNIG"
    },
    "kernelspec": {
      "name": "python3",
      "display_name": "Python 3"
    },
    "language_info": {
      "name": "python"
    }
  },
  "cells": [
    {
      "cell_type": "markdown",
      "source": [
        "Welcome to Python!!!"
      ],
      "metadata": {
        "id": "Ha3VeVWsOr-8"
      }
    },
    {
      "cell_type": "markdown",
      "source": [
        "Core Data Types"
      ],
      "metadata": {
        "id": "RsgsEOLl_cuf"
      }
    },
    {
      "cell_type": "code",
      "execution_count": null,
      "metadata": {
        "id": "pQtqGbSS-T0F"
      },
      "outputs": [],
      "source": [
        "# Int\n",
        "\n",
        "\n",
        "# float\n",
        "\n",
        "\n",
        "# string ('' + \"\")\n",
        "\n",
        "\n",
        "# bool"
      ]
    },
    {
      "cell_type": "markdown",
      "source": [
        "Variables"
      ],
      "metadata": {
        "id": "CLOQabPmAa-n"
      }
    },
    {
      "cell_type": "code",
      "source": [
        "# name = \n",
        "\n",
        "# age = \n",
        "\n",
        "# awake = \n",
        "\n",
        "# height =\n",
        "\n",
        "# legal names\n",
        "# myvar = \"John\"\n",
        "# my_var = \"John\"\n",
        "# _my_var = \"John\"\n",
        "# myVar = \"John\"\n",
        "# MYVAR = \"John\"\n",
        "# myvar2 = \"John\"\n",
        "\n",
        "# illegal names\n",
        "# 2myvar = \"John\"\n",
        "# my-var = \"John\"\n",
        "# my var = \"John\"\n",
        "\n",
        "# variable assignments a=2 b=3 a=b ...\n"
      ],
      "metadata": {
        "id": "WFlpXXtAAcra"
      },
      "execution_count": null,
      "outputs": []
    },
    {
      "cell_type": "markdown",
      "source": [
        "Outputting Data"
      ],
      "metadata": {
        "id": "JTQFWPkLFvGh"
      }
    },
    {
      "cell_type": "code",
      "source": [
        "# straight data\n",
        "# print()\n",
        "\n",
        "# variables\n",
        "# x = \n",
        "# print()\n",
        "# print(+)\n",
        "# print(,)"
      ],
      "metadata": {
        "id": "MPcfUY7SF5TK"
      },
      "execution_count": null,
      "outputs": []
    },
    {
      "cell_type": "markdown",
      "source": [
        "User Input"
      ],
      "metadata": {
        "id": "0cJ7xcUfHjjt"
      }
    },
    {
      "cell_type": "code",
      "source": [
        "# print('...')\n",
        "# input()\n",
        "\n",
        "# input('...')\n",
        "\n",
        "# x = input('...')\n"
      ],
      "metadata": {
        "id": "GFajN846HmL3"
      },
      "execution_count": null,
      "outputs": []
    },
    {
      "cell_type": "markdown",
      "source": [
        "Mad libs Game"
      ],
      "metadata": {
        "id": "HtuVW8L9Dp5b"
      }
    },
    {
      "cell_type": "code",
      "source": [
        "print('Old Macdonald had a farm, E-I-E-I-O')\n",
        "print('and on that farm he had an Cow , E-I-E-I-O')\n",
        "print('with a Moo Moo here')\n",
        "print('and a Moo Moo there,')\n",
        "print('here a Moo, there a Moo,')\n",
        "print('everywhere a Moo Moo,')\n",
        "print('Old Macdonald had a farm, E-I-E-I-O')\n",
        "\n",
        "print('Roses are Red')\n",
        "print('Violets are Blue')\n",
        "print('I love to code')\n",
        "print('And so will you')"
      ],
      "metadata": {
        "id": "BmWeyezaDt4m"
      },
      "execution_count": null,
      "outputs": []
    },
    {
      "cell_type": "markdown",
      "source": [
        "Arithmetic Operators"
      ],
      "metadata": {
        "id": "6Tm3al7BIClB"
      }
    },
    {
      "cell_type": "code",
      "source": [
        "# +\n",
        "# -\n",
        "# *\n",
        "# /\n",
        "# %\n",
        "# **\n",
        "# //"
      ],
      "metadata": {
        "id": "GE2DmA9pIaQY"
      },
      "execution_count": null,
      "outputs": []
    },
    {
      "cell_type": "markdown",
      "source": [
        "Number Functions"
      ],
      "metadata": {
        "id": "x5jxdRwMIa1V"
      }
    },
    {
      "cell_type": "code",
      "source": [
        "# int()\n",
        "# float()\n",
        "# str()"
      ],
      "metadata": {
        "id": "MTfD0DWHIei3"
      },
      "execution_count": null,
      "outputs": []
    },
    {
      "cell_type": "markdown",
      "source": [
        "Basic Calculator"
      ],
      "metadata": {
        "id": "YFjWRfGFL9Fv"
      }
    },
    {
      "cell_type": "code",
      "source": [
        ""
      ],
      "metadata": {
        "id": "R_pYUIkZL8cF"
      },
      "execution_count": null,
      "outputs": []
    },
    {
      "cell_type": "markdown",
      "source": [
        "Assignment Operators"
      ],
      "metadata": {
        "id": "PCkK5E8tLt09"
      }
    },
    {
      "cell_type": "code",
      "source": [
        "# =\n",
        "# +=\n",
        "# -=\n",
        "# *=\n",
        "# /=\n",
        "# %=\n",
        "# //=\n",
        "# **="
      ],
      "metadata": {
        "id": "CUXPsYnMLwHy"
      },
      "execution_count": null,
      "outputs": []
    },
    {
      "cell_type": "markdown",
      "source": [
        "Incorporate Assignment Operators into Calculator"
      ],
      "metadata": {
        "id": "dvDgNq2tN-wn"
      }
    },
    {
      "cell_type": "code",
      "source": [
        ""
      ],
      "metadata": {
        "id": "gFGRzeWjOEwO"
      },
      "execution_count": null,
      "outputs": []
    },
    {
      "cell_type": "markdown",
      "source": [
        "Topics for next lessons:\n",
        "- Deep Dive into strings\n",
        "- Deep Dive into numbers\n",
        "- if Statements\n",
        "- lists and tuples\n",
        "- for loops\n",
        "- while loops\n",
        "- dicts and sets\n",
        "- comprehensions\n",
        "- functions\n"
      ],
      "metadata": {
        "id": "DQ1lUR-2NBEQ"
      }
    }
  ]
}