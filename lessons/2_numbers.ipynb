{
  "cells": [
    {
      "cell_type": "markdown",
      "metadata": {
        "id": "6Tm3al7BIClB"
      },
      "source": [
        "Arithmetic Operators"
      ]
    },
    {
      "cell_type": "code",
      "execution_count": null,
      "metadata": {
        "id": "GE2DmA9pIaQY"
      },
      "outputs": [],
      "source": [
        "# +\n",
        "# -\n",
        "# *\n",
        "# /\n",
        "# %\n",
        "# **\n",
        "# //"
      ]
    },
    {
      "cell_type": "markdown",
      "metadata": {
        "id": "x5jxdRwMIa1V"
      },
      "source": [
        "Number Functions"
      ]
    },
    {
      "cell_type": "code",
      "execution_count": null,
      "metadata": {
        "id": "MTfD0DWHIei3"
      },
      "outputs": [],
      "source": [
        "# int()\n",
        "# float()\n",
        "# str()"
      ]
    },
    {
      "cell_type": "markdown",
      "metadata": {
        "id": "YFjWRfGFL9Fv"
      },
      "source": [
        "Task: Build a Basic Calculator"
      ]
    },
    {
      "cell_type": "markdown",
      "metadata": {
        "id": "PCkK5E8tLt09"
      },
      "source": [
        "Assignment Operators"
      ]
    },
    {
      "cell_type": "code",
      "execution_count": null,
      "metadata": {
        "id": "CUXPsYnMLwHy"
      },
      "outputs": [],
      "source": [
        "# =\n",
        "# +=\n",
        "# -=\n",
        "# *=\n",
        "# /=\n",
        "# %=\n",
        "# //=\n",
        "# **="
      ]
    },
    {
      "cell_type": "markdown",
      "metadata": {},
      "source": [
        "Advanced Assignement Operators"
      ]
    },
    {
      "cell_type": "code",
      "execution_count": null,
      "metadata": {},
      "outputs": [],
      "source": [
        "# &=\n",
        "\n",
        "# |=\n",
        "\n",
        "# ^=\n",
        "\n",
        "# >>=\n",
        "\n",
        "# <<="
      ]
    },
    {
      "cell_type": "markdown",
      "metadata": {
        "id": "dvDgNq2tN-wn"
      },
      "source": [
        "Task: Incorporate Assignment Operators into Calculator"
      ]
    },
    {
      "cell_type": "markdown",
      "metadata": {},
      "source": [
        "Conditional Operators"
      ]
    },
    {
      "cell_type": "code",
      "execution_count": null,
      "metadata": {},
      "outputs": [],
      "source": [
        "# and\n",
        "\n",
        "# or\n",
        "\n",
        "# not"
      ]
    }
  ],
  "metadata": {
    "colab": {
      "authorship_tag": "ABX9TyOGg85co9FDv6ImodD6uNIG",
      "collapsed_sections": [],
      "name": "Lesson1.ipynb",
      "provenance": []
    },
    "kernelspec": {
      "display_name": "Python 3.9.8 64-bit",
      "language": "python",
      "name": "python3"
    },
    "language_info": {
      "codemirror_mode": {
        "name": "ipython",
        "version": 3
      },
      "file_extension": ".py",
      "mimetype": "text/x-python",
      "name": "python",
      "nbconvert_exporter": "python",
      "pygments_lexer": "ipython3",
      "version": "3.9.8"
    },
    "vscode": {
      "interpreter": {
        "hash": "b0fa6594d8f4cbf19f97940f81e996739fb7646882a419484c72d19e05852a7e"
      }
    }
  },
  "nbformat": 4,
  "nbformat_minor": 0
}
