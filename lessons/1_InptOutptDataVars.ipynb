{
  "cells": [
    {
      "cell_type": "markdown",
      "metadata": {
        "id": "RsgsEOLl_cuf"
      },
      "source": [
        "Core Data Types"
      ]
    },
    {
      "cell_type": "code",
      "execution_count": null,
      "metadata": {
        "id": "pQtqGbSS-T0F"
      },
      "outputs": [],
      "source": [
        "# Int\n",
        "\n",
        "\n",
        "# float\n",
        "\n",
        "\n",
        "# string ('' + \"\")\n",
        "\n",
        "\n",
        "# bool"
      ]
    },
    {
      "cell_type": "markdown",
      "metadata": {
        "id": "CLOQabPmAa-n"
      },
      "source": [
        "Variables"
      ]
    },
    {
      "cell_type": "code",
      "execution_count": null,
      "metadata": {
        "id": "WFlpXXtAAcra"
      },
      "outputs": [],
      "source": [
        "# name = \n",
        "\n",
        "# age = \n",
        "\n",
        "# awake = \n",
        "\n",
        "# height =\n",
        "\n",
        "# legal names\n",
        "# myvar = \"John\"\n",
        "# my_var = \"John\"\n",
        "# _my_var = \"John\"\n",
        "# myVar = \"John\"\n",
        "# MYVAR = \"John\"\n",
        "# myvar2 = \"John\"\n",
        "\n",
        "# illegal names\n",
        "# 2myvar = \"John\"\n",
        "# my-var = \"John\"\n",
        "# my var = \"John\"\n",
        "\n",
        "# variable assignments a=2 b=3 a=b ...\n"
      ]
    },
    {
      "cell_type": "markdown",
      "metadata": {
        "id": "JTQFWPkLFvGh"
      },
      "source": [
        "Outputting Data"
      ]
    },
    {
      "cell_type": "code",
      "execution_count": null,
      "metadata": {
        "id": "MPcfUY7SF5TK"
      },
      "outputs": [],
      "source": [
        "# straight data\n",
        "# print()\n",
        "\n",
        "# variables\n",
        "# x = \n",
        "# print()\n",
        "# print(+)\n",
        "# print(,)"
      ]
    },
    {
      "cell_type": "markdown",
      "metadata": {
        "id": "0cJ7xcUfHjjt"
      },
      "source": [
        "User Input"
      ]
    },
    {
      "cell_type": "code",
      "execution_count": null,
      "metadata": {
        "id": "GFajN846HmL3"
      },
      "outputs": [],
      "source": [
        "# print('...')\n",
        "# input()\n",
        "\n",
        "# input('...')\n",
        "\n",
        "# x = input('...')\n"
      ]
    },
    {
      "cell_type": "markdown",
      "metadata": {
        "id": "HtuVW8L9Dp5b"
      },
      "source": [
        "Mad libs Game"
      ]
    },
    {
      "cell_type": "code",
      "execution_count": null,
      "metadata": {
        "id": "BmWeyezaDt4m"
      },
      "outputs": [],
      "source": [
        "print('Old Macdonald had a farm, E-I-E-I-O')\n",
        "print('and on that farm he had an Cow , E-I-E-I-O')\n",
        "print('with a Moo Moo here')\n",
        "print('and a Moo Moo there,')\n",
        "print('here a Moo, there a Moo,')\n",
        "print('everywhere a Moo Moo,')\n",
        "print('Old Macdonald had a farm, E-I-E-I-O')\n",
        "\n",
        "print('Roses are Red')\n",
        "print('Violets are Blue')\n",
        "print('I love to code')\n",
        "print('And so will you')"
      ]
    }
  ],
  "metadata": {
    "colab": {
      "authorship_tag": "ABX9TyOGg85co9FDv6ImodD6uNIG",
      "collapsed_sections": [],
      "name": "Lesson1.ipynb",
      "provenance": []
    },
    "kernelspec": {
      "display_name": "Python 3.9.8 64-bit",
      "language": "python",
      "name": "python3"
    },
    "language_info": {
      "codemirror_mode": {
        "name": "ipython",
        "version": 3
      },
      "file_extension": ".py",
      "mimetype": "text/x-python",
      "name": "python",
      "nbconvert_exporter": "python",
      "pygments_lexer": "ipython3",
      "version": "3.9.8"
    },
    "vscode": {
      "interpreter": {
        "hash": "b0fa6594d8f4cbf19f97940f81e996739fb7646882a419484c72d19e05852a7e"
      }
    }
  },
  "nbformat": 4,
  "nbformat_minor": 0
}
